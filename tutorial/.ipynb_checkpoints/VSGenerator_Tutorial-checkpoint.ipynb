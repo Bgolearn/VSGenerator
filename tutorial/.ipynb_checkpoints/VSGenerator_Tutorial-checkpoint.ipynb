{
 "cells": [
  {
   "cell_type": "markdown",
   "id": "caf67bd6-dc2d-401b-b138-dbf42a931882",
   "metadata": {},
   "source": [
    "\n",
    "## Concise Tutorial for VSGenerator\n",
    "\n",
    "**VSGenerator** provides **DVSNet**, a neural network designed to dynamically generate virtual spaces for training datasets.  \n",
    "This project extends the **Bgolearn** platform, focusing on applying generative algorithms to material design problems.\n",
    "\n",
    "### Installation\n",
    "\n",
    "Install VSGenerator via pip:\n",
    "\n",
    "```sh\n",
    "pip install VSGenerator\n",
    "```\n",
    "\n",
    "### Preparing Your Dataset\n",
    "\n",
    "Prepare your dataset following the example in the `./example_data` folder.  \n",
    "\n",
    "The folder `example_data` contains two datasets:\n",
    "\n",
    "- **`data.csv`**: The training dataset.  \n",
    "  - It consists of five columns:  \n",
    "    - The first four columns represent the **design space** (features).  \n",
    "    - The last column is the **regression target**, representing the **material property**.  \n",
    "  - This dataset is derived after the first stage of **active learning design**.  \n",
    "\n",
    "- **`gooddata.csv`**: The \"good data\" subset.  \n",
    "  - VSGenerator samples promising candidates around these so-called **good data** points.  \n",
    "  - It must have the **same dimensions** as `data.csv`.  \n",
    "\n",
    "### Execution Steps\n",
    "\n",
    "The execution process consists of two steps:\n",
    "\n",
    "1. **Train the model**  \n",
    "   - Learn the distribution in the latent space.  \n",
    "\n",
    "2. **Sample new candidates**  \n",
    "   - Generate new promising candidates to define the **search space** for the next iteration.  \n",
    "\n",
    "### Output\n",
    "\n",
    "The results will be saved in a new folder named **BgolearnData**, with the output stored as `vs_data.csv`.  \n",
    "\n",
    "The generated search space **respects your constraints** on the first training property, aligning with your desired specifications.  \n"
   ]
  },
  {
   "cell_type": "code",
   "execution_count": 1,
   "id": "086ecd3c-9da6-4e95-96e1-d66b6a77f979",
   "metadata": {},
   "outputs": [
    {
     "name": "stdout",
     "output_type": "stream",
     "text": [
      "DVSNet, Bin Cao, Hong Kong University of Science and Technology (Guangzhou).\n",
      "URL : https://github.com/Bin-Cao/Bgolearn\n",
      "URL : https://github.com/Bgolearn/VSGenerator\n",
      "Executed on : 2025-03-28 11:52:47  | Have a great day.\n",
      "\n",
      "\n",
      "Epoch 1/50\n",
      "1/1 [==============================] - ETA: 0s - loss: 1.9718\n",
      "Epoch 1: val_loss improved from inf to 4.00145, saving model to ./DSVNetparams\\best_model.h5\n",
      "1/1 [==============================] - 7s 7s/step - loss: 1.9718 - val_loss: 4.0015\n"
     ]
    },
    {
     "name": "stderr",
     "output_type": "stream",
     "text": [
      "C:\\Users\\binja\\anaconda3\\Lib\\site-packages\\keras\\src\\engine\\training.py:3000: UserWarning: You are saving your model as an HDF5 file via `model.save()`. This file format is considered legacy. We recommend using instead the native Keras format, e.g. `model.save('my_model.keras')`.\n",
      "  saving_api.save_model(\n"
     ]
    },
    {
     "name": "stdout",
     "output_type": "stream",
     "text": [
      "Epoch 2/50\n",
      "1/1 [==============================] - ETA: 0s - loss: 3.6864\n",
      "Epoch 2: val_loss improved from 4.00145 to 2.24500, saving model to ./DSVNetparams\\best_model.h5\n",
      "1/1 [==============================] - 0s 263ms/step - loss: 3.6864 - val_loss: 2.2450\n",
      "Epoch 3/50\n",
      "1/1 [==============================] - ETA: 0s - loss: 4.0847\n",
      "Epoch 3: val_loss improved from 2.24500 to 1.27687, saving model to ./DSVNetparams\\best_model.h5\n",
      "1/1 [==============================] - 0s 334ms/step - loss: 4.0847 - val_loss: 1.2769\n",
      "Epoch 4/50\n",
      "1/1 [==============================] - ETA: 0s - loss: 2.9850\n",
      "Epoch 4: val_loss did not improve from 1.27687\n",
      "1/1 [==============================] - 0s 87ms/step - loss: 2.9850 - val_loss: 1.6767\n",
      "Epoch 5/50\n",
      "1/1 [==============================] - ETA: 0s - loss: 9.7634\n",
      "Epoch 5: val_loss did not improve from 1.27687\n",
      "1/1 [==============================] - 0s 106ms/step - loss: 9.7634 - val_loss: 2.0731\n",
      "Epoch 6/50\n",
      "1/1 [==============================] - ETA: 0s - loss: 13.4417\n",
      "Epoch 6: val_loss did not improve from 1.27687\n",
      "1/1 [==============================] - 0s 119ms/step - loss: 13.4417 - val_loss: 1.3345\n",
      "Epoch 6: early stopping\n"
     ]
    }
   ],
   "source": [
    "# Import the VSGenerator package\n",
    "from VSGenerator import DVSNet\n",
    "\n",
    "# Path to the training dataset\n",
    "data_file = './example_data/data.csv'\n",
    "\n",
    "# Dimensionality of input features for DVSNet\n",
    "input_dim = 4\n",
    "\n",
    "# Dimensionality of the target variable. \n",
    "# In this simple example, the target is one-dimensional, but DVSNet supports multi-target regression.\n",
    "y_dim = 1\n",
    "\n",
    "# Dimensionality of the latent space distribution. \n",
    "# In this work, samples are represented by a 5-dimensional Gaussian distribution in the latent space.\n",
    "latent_dim = 5\n",
    "\n",
    "# Number of training epochs\n",
    "epochs = 50\n",
    "\n",
    "# Batch size for training\n",
    "batch_size = 16  \n",
    "\n",
    "# Train the model using the specified parameters. \n",
    "# Optimized parameters will be saved automatically.\n",
    "DVSNet.train(\n",
    "    data_file, input_dim, y_dim, latent_dim,\n",
    "    epochs=epochs, batch_size=batch_size, patience=3\n",
    ")"
   ]
  },
  {
   "cell_type": "code",
   "execution_count": 2,
   "id": "f6ada218-db89-406e-a236-bdc9be600b8f",
   "metadata": {},
   "outputs": [
    {
     "name": "stdout",
     "output_type": "stream",
     "text": [
      "1/1 [==============================] - 0s 437ms/step\n",
      "1/1 [==============================] - 0s 55ms/step\n",
      "1/1 [==============================] - 0s 58ms/step\n",
      "1/1 [==============================] - 0s 68ms/step\n",
      "1/1 [==============================] - 0s 53ms/step\n"
     ]
    }
   ],
   "source": [
    "# Path to the dataset containing good data\n",
    "data_file = './example_data/gooddata.csv'\n",
    "\n",
    "# Dimensionality of input features for DVSNet (must remain the same as in the training stage)\n",
    "input_dim = 4  \n",
    "\n",
    "# Dimensionality of the target variable (must remain the same as in the training stage)\n",
    "y_dim = 1\n",
    "\n",
    "# Dimensionality of the latent space distribution (must remain the same as in the training stage)\n",
    "latent_dim = 5\n",
    "\n",
    "# A list with 'input_dim' elements, specifying the step size for each feature dimension\n",
    "step_list = [0.1, 5, 25, 1]\n",
    "\n",
    "# A list with 'input_dim' elements, defining the boundaries for each feature dimension\n",
    "boundary = [[1.0, 2.0], [5, 30], [250, 475], [4, 8]]\n",
    "\n",
    "# The 'step_list' and 'boundary' will discretize the generated data according to the designed grid.\n",
    "\n",
    "# Number of generated samples per distribution.\n",
    "# Note: Due to potential duplication, the actual number of generated samples may be smaller than the specified 'gen_num'.\n",
    "gen_num = 50\n",
    "\n",
    "# Generate new data based on the provided configuration.\n",
    "DVSNet.generator(data_file, input_dim, y_dim, latent_dim, step_list, boundary, gen_num)"
   ]
  },
  {
   "cell_type": "markdown",
   "id": "713c6d9c-94da-4c16-afd0-f8d8922d0a45",
   "metadata": {},
   "source": [
    "## For more parameters, please refer to the function's docstring or the code logic.\n",
    "## Feel free to contact me in case of any issues."
   ]
  },
  {
   "cell_type": "code",
   "execution_count": null,
   "id": "d28b0880-7851-42f4-a266-16cd0cd8f561",
   "metadata": {},
   "outputs": [],
   "source": []
  }
 ],
 "metadata": {
  "kernelspec": {
   "display_name": "Python 3 (ipykernel)",
   "language": "python",
   "name": "python3"
  },
  "language_info": {
   "codemirror_mode": {
    "name": "ipython",
    "version": 3
   },
   "file_extension": ".py",
   "mimetype": "text/x-python",
   "name": "python",
   "nbconvert_exporter": "python",
   "pygments_lexer": "ipython3",
   "version": "3.11.7"
  }
 },
 "nbformat": 4,
 "nbformat_minor": 5
}
